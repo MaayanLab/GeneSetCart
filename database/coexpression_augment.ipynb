{
 "cells": [
  {
   "cell_type": "code",
   "execution_count": 47,
   "metadata": {},
   "outputs": [],
   "source": [
    "import pandas as pd\n",
    "import os\n",
    "from tqdm import tqdm\n",
    "import urllib.request\n",
    "import json\n",
    "import requests\n",
    "import time\n",
    "import csv\n",
    "\n"
   ]
  },
  {
   "cell_type": "code",
   "execution_count": 21,
   "metadata": {},
   "outputs": [],
   "source": [
    "def similaritysort(e):\n",
    "  return e[1]"
   ]
  },
  {
   "cell_type": "code",
   "execution_count": 44,
   "metadata": {},
   "outputs": [],
   "source": [
    "# augment gene set library: \n",
    "def coexpression_augment(file_link):\n",
    "    augmented_df_data = []\n",
    "    GENESHOT_URL = 'https://maayanlab.cloud/geneshot/api/associate'\n",
    "    with urllib.request.urlopen(file_link) as f:\n",
    "        html = f.read().decode('utf-8') \n",
    "        for line in tqdm(html.split('\\n'), total=len(html.split('\\n'))):\n",
    "            line_content = line.split('\\t')\n",
    "            geneset_name =  line_content[0]\n",
    "            genes = line_content[1:]\n",
    "            genes = [i for i in genes if i != '']\n",
    "            payload = {\n",
    "                \"gene_list\": genes,\n",
    "                \"similarity\": \"coexpression\" \n",
    "                }\n",
    "            try:\n",
    "                response = requests.post(GENESHOT_URL, json=payload)\n",
    "                if response.ok:\n",
    "                    data = json.loads(response.text)\n",
    "                    associationData = data['association']\n",
    "                    gene_similarity = []\n",
    "                    for gene in list(associationData.keys()):\n",
    "                        gene_similarity.append([gene, associationData[gene]['simScore']])\n",
    "                    gene_similarity.sort(key=similaritysort)\n",
    "                    top_genes = []\n",
    "                    for pair in gene_similarity[:100]: \n",
    "                        top_genes.append(pair[0])\n",
    "                    augmented_df_data.append([geneset_name, top_genes])   \n",
    "            except:\n",
    "                time.sleep(10)\n",
    "                data = json.loads(response.text)\n",
    "                associationData = data['association']\n",
    "                gene_similarity = []\n",
    "                for gene in list(associationData.keys()):\n",
    "                    gene_similarity.append([gene, associationData[gene]['simScore']])\n",
    "                gene_similarity.sort(key=similaritysort)\n",
    "                top_genes = []\n",
    "                for pair in gene_similarity[:100]: \n",
    "                    top_genes.append(pair[0])\n",
    "                augmented_df_data.append([geneset_name, top_genes])  \n",
    "        augmented_df = pd.DataFrame(augmented_df_data, columns=['Term', 'Genes'])\n",
    "        return augmented_df"
   ]
  },
  {
   "cell_type": "code",
   "execution_count": 45,
   "metadata": {},
   "outputs": [
    {
     "name": "stderr",
     "output_type": "stream",
     "text": [
      "100%|██████████| 1426/1426 [33:29<00:00,  1.41s/it]\n"
     ]
    }
   ],
   "source": [
    "co_expressed_azimuth = coexpression_augment('https://minio.dev.maayanlab.cloud/g2sg/CFDE%20libraries/Hubmap_Azimuth_2023.txt')"
   ]
  },
  {
   "cell_type": "code",
   "execution_count": 73,
   "metadata": {},
   "outputs": [],
   "source": [
    "# read to .gmt file\n",
    "with open(\"HubMAP_Azimuth_2023_Augmented.gmt\", \"w\") as o:\n",
    "    csv_writer = csv.writer(o, delimiter=\"\\t\")\n",
    "    df = co_expressed_azimuth\n",
    "    terms = df[\"Term\"].values\n",
    "    for term in terms:\n",
    "        genes = df[df['Term'] == term]['Genes'].values[0]\n",
    "        csv_writer.writerow([\n",
    "            term,\n",
    "            \"\",\n",
    "            *list(genes)\n",
    "        ])"
   ]
  }
 ],
 "metadata": {
  "kernelspec": {
   "display_name": ".venv",
   "language": "python",
   "name": "python3"
  },
  "language_info": {
   "codemirror_mode": {
    "name": "ipython",
    "version": 3
   },
   "file_extension": ".py",
   "mimetype": "text/x-python",
   "name": "python",
   "nbconvert_exporter": "python",
   "pygments_lexer": "ipython3",
   "version": "3.10.13"
  },
  "orig_nbformat": 4
 },
 "nbformat": 4,
 "nbformat_minor": 2
}
