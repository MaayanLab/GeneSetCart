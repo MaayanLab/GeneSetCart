{
 "cells": [
  {
   "cell_type": "code",
   "execution_count": 8,
   "metadata": {},
   "outputs": [],
   "source": [
    "import pandas as pd\n",
    "import psycopg2\n",
    "import os\n",
    "from dotenv import load_dotenv\n",
    "from tqdm import tqdm"
   ]
  },
  {
   "cell_type": "code",
   "execution_count": 9,
   "metadata": {},
   "outputs": [],
   "source": [
    "load_dotenv()\n",
    "DATABASE_URL = os.environ.get('DATABASE_URL')\n",
    "assert DATABASE_URL is not None, 'Missing DATABASE_URL environment variable to connect to the database'\n",
    "# connect to db\n",
    "conn = psycopg2.connect(DATABASE_URL)\n",
    "\n",
    "# Open a cursor to perform database operations\n",
    "cur = conn.cursor()"
   ]
  },
  {
   "cell_type": "code",
   "execution_count": 3,
   "metadata": {},
   "outputs": [
    {
     "data": {
      "text/html": [
       "<div>\n",
       "<style scoped>\n",
       "    .dataframe tbody tr th:only-of-type {\n",
       "        vertical-align: middle;\n",
       "    }\n",
       "\n",
       "    .dataframe tbody tr th {\n",
       "        vertical-align: top;\n",
       "    }\n",
       "\n",
       "    .dataframe thead th {\n",
       "        text-align: right;\n",
       "    }\n",
       "</style>\n",
       "<table border=\"1\" class=\"dataframe\">\n",
       "  <thead>\n",
       "    <tr style=\"text-align: right;\">\n",
       "      <th></th>\n",
       "      <th>DCC</th>\n",
       "      <th>Library</th>\n",
       "      <th>Link</th>\n",
       "      <th>Hypothesis template</th>\n",
       "    </tr>\n",
       "  </thead>\n",
       "  <tbody>\n",
       "    <tr>\n",
       "      <th>0</th>\n",
       "      <td>Glygen</td>\n",
       "      <td>Glygen Glycosylated Proteins</td>\n",
       "      <td>https://cfde-drc.s3.amazonaws.com/GlyGen/XMT/2...</td>\n",
       "      <td>NaN</td>\n",
       "    </tr>\n",
       "    <tr>\n",
       "      <th>1</th>\n",
       "      <td>GTEx</td>\n",
       "      <td>GTEx Tissue-Specific Aging Signatures</td>\n",
       "      <td>https://cfde-drc.s3.amazonaws.com/GTEx/XMT/202...</td>\n",
       "      <td>NaN</td>\n",
       "    </tr>\n",
       "    <tr>\n",
       "      <th>2</th>\n",
       "      <td>GTEx</td>\n",
       "      <td>GTEx Tissue Gene Expression Profiles</td>\n",
       "      <td>https://cfde-drc.s3.amazonaws.com/GTEx/XMT/202...</td>\n",
       "      <td>NaN</td>\n",
       "    </tr>\n",
       "    <tr>\n",
       "      <th>3</th>\n",
       "      <td>IDG</td>\n",
       "      <td>IDG Drug Targets</td>\n",
       "      <td>https://cfde-drc.s3.amazonaws.com/IDG/XMT/2022...</td>\n",
       "      <td>NaN</td>\n",
       "    </tr>\n",
       "    <tr>\n",
       "      <th>4</th>\n",
       "      <td>KOMP2</td>\n",
       "      <td>KOMP2 Mouse Phenotypes</td>\n",
       "      <td>https://cfde-drc.s3.amazonaws.com/KOMP2/XMT/20...</td>\n",
       "      <td>NaN</td>\n",
       "    </tr>\n",
       "    <tr>\n",
       "      <th>5</th>\n",
       "      <td>LINCS</td>\n",
       "      <td>LINCS L1000 CMAP Chemical Pertubation Consensu...</td>\n",
       "      <td>https://cfde-drc.s3.amazonaws.com/LINCS/XMT/20...</td>\n",
       "      <td>NaN</td>\n",
       "    </tr>\n",
       "    <tr>\n",
       "      <th>6</th>\n",
       "      <td>LINCS</td>\n",
       "      <td>LINCS L1000 CMAP CRISPR Knockout Consensus Sig...</td>\n",
       "      <td>https://cfde-drc.s3.amazonaws.com/LINCS/XMT/20...</td>\n",
       "      <td>NaN</td>\n",
       "    </tr>\n",
       "    <tr>\n",
       "      <th>7</th>\n",
       "      <td>MoTrPAC</td>\n",
       "      <td>MoTrPAC Rat Endurance Exercise Training</td>\n",
       "      <td>https://cfde-drc.s3.amazonaws.com/MoTrPAC/XMT/...</td>\n",
       "      <td>NaN</td>\n",
       "    </tr>\n",
       "    <tr>\n",
       "      <th>8</th>\n",
       "      <td>Metabolomics</td>\n",
       "      <td>Metabolomics Gene-Metabolite Associations</td>\n",
       "      <td>https://cfde-drc.s3.amazonaws.com/MW/XMT/2022-...</td>\n",
       "      <td>NaN</td>\n",
       "    </tr>\n",
       "  </tbody>\n",
       "</table>\n",
       "</div>"
      ],
      "text/plain": [
       "            DCC                                           Library   \\\n",
       "0        Glygen                       Glygen Glycosylated Proteins   \n",
       "1          GTEx              GTEx Tissue-Specific Aging Signatures   \n",
       "2          GTEx               GTEx Tissue Gene Expression Profiles   \n",
       "3           IDG                                   IDG Drug Targets   \n",
       "4         KOMP2                             KOMP2 Mouse Phenotypes   \n",
       "5         LINCS  LINCS L1000 CMAP Chemical Pertubation Consensu...   \n",
       "6         LINCS  LINCS L1000 CMAP CRISPR Knockout Consensus Sig...   \n",
       "7       MoTrPAC            MoTrPAC Rat Endurance Exercise Training   \n",
       "8  Metabolomics          Metabolomics Gene-Metabolite Associations   \n",
       "\n",
       "                                                Link  Hypothesis template  \n",
       "0  https://cfde-drc.s3.amazonaws.com/GlyGen/XMT/2...                  NaN  \n",
       "1  https://cfde-drc.s3.amazonaws.com/GTEx/XMT/202...                  NaN  \n",
       "2  https://cfde-drc.s3.amazonaws.com/GTEx/XMT/202...                  NaN  \n",
       "3  https://cfde-drc.s3.amazonaws.com/IDG/XMT/2022...                  NaN  \n",
       "4  https://cfde-drc.s3.amazonaws.com/KOMP2/XMT/20...                  NaN  \n",
       "5  https://cfde-drc.s3.amazonaws.com/LINCS/XMT/20...                  NaN  \n",
       "6  https://cfde-drc.s3.amazonaws.com/LINCS/XMT/20...                  NaN  \n",
       "7  https://cfde-drc.s3.amazonaws.com/MoTrPAC/XMT/...                  NaN  \n",
       "8  https://cfde-drc.s3.amazonaws.com/MW/XMT/2022-...                  NaN  "
      ]
     },
     "execution_count": 3,
     "metadata": {},
     "output_type": "execute_result"
    }
   ],
   "source": [
    "cfde_genesets = pd.read_csv(\"CFDE Genesets.tsv\", sep='\\t')\n",
    "cfde_genesets"
   ]
  },
  {
   "cell_type": "code",
   "execution_count": 5,
   "metadata": {},
   "outputs": [
    {
     "name": "stderr",
     "output_type": "stream",
     "text": [
      "100%|██████████| 339/339 [00:00<00:00, 138705.40it/s]\n",
      "100%|██████████| 270/270 [00:00<00:00, 37247.14it/s]\n",
      "100%|██████████| 511/511 [00:00<00:00, 74640.06it/s]\n",
      "100%|██████████| 889/889 [00:00<00:00, 244908.79it/s]\n",
      "100%|██████████| 530/530 [00:00<00:00, 125330.16it/s]\n",
      "100%|██████████| 10851/10851 [00:00<00:00, 60890.87it/s]\n",
      "100%|██████████| 10425/10425 [00:00<00:00, 46015.68it/s]\n",
      "100%|██████████| 226/226 [00:00<00:00, 31696.41it/s]\n",
      "100%|██████████| 234/234 [00:00<00:00, 144439.61it/s]\n"
     ]
    }
   ],
   "source": [
    "import urllib.request\n",
    "\n",
    "GlyGen_Glycosylated_Proteins = pd.DataFrame([], columns=['Library', 'Geneset', 'Genes'])\n",
    "GTEx_Aging_Sigs  = pd.DataFrame([], columns=['Library', 'Geneset', 'Genes'])\n",
    "GTEx_Tissues  = pd.DataFrame([], columns=['Library', 'Geneset', 'Genes'])\n",
    "IDG_Drug_Targets= pd.DataFrame([], columns=['Library', 'Geneset', 'Genes'])\n",
    "KOMP2_Mouse_Phenotypes = pd.DataFrame([], columns=['Library', 'Geneset', 'Genes'])\n",
    "LINCS_L1000_Chem_Pert_Consensus_Sigs = pd.DataFrame([], columns=['Library', 'Geneset', 'Genes'])\n",
    "LINCS_L1000_CRISPR_KO_Consensus_Sigs = pd.DataFrame([], columns=['Library', 'Geneset', 'Genes'])\n",
    "MoTrPAC = pd.DataFrame([], columns=['Library', 'Geneset', 'Genes'])\n",
    "Metabolomics_Workbench_Metabolites  = pd.DataFrame([], columns=['Library', 'Geneset', 'Genes'])\n",
    "\n",
    "dataframe_list = [GlyGen_Glycosylated_Proteins, \n",
    " GTEx_Aging_Sigs, \n",
    " GTEx_Tissues, \n",
    " IDG_Drug_Targets, \n",
    " KOMP2_Mouse_Phenotypes, \n",
    " LINCS_L1000_Chem_Pert_Consensus_Sigs, \n",
    " LINCS_L1000_CRISPR_KO_Consensus_Sigs,\n",
    " MoTrPAC, \n",
    " Metabolomics_Workbench_Metabolites]\n",
    "\n",
    "# for each line, open with file link and populate database\n",
    "for index, row in cfde_genesets.iterrows():\n",
    "    data = []\n",
    "    with urllib.request.urlopen(row['Link']) as f:\n",
    "        html = f.read().decode('utf-8') \n",
    "        for line in tqdm(html.split('\\n'), total=len(html.split('\\n'))):\n",
    "            line_content = line.split('\\t')\n",
    "            geneset_name =  line_content[0]\n",
    "            genes = line_content[1:]\n",
    "            genes = [i for i in genes if i != '']\n",
    "            if len(genes) > 0:\n",
    "                data.append([row['Library '], geneset_name, genes])\n",
    "    dataframe_list[index] =  pd.DataFrame(data, columns=['Library', 'Geneset', 'Genes'])\n",
    "        \n",
    "\n",
    "    "
   ]
  },
  {
   "cell_type": "code",
   "execution_count": 6,
   "metadata": {},
   "outputs": [],
   "source": [
    "GlyGen_Glycosylated_Proteins = dataframe_list[0]\n",
    "GTEx_Aging_Sigs  = dataframe_list[1]\n",
    "GTEx_Tissues  = dataframe_list[2]\n",
    "IDG_Drug_Targets= dataframe_list[3]\n",
    "KOMP2_Mouse_Phenotypes = dataframe_list[4]\n",
    "LINCS_L1000_Chem_Pert_Consensus_Sigs = dataframe_list[5]\n",
    "LINCS_L1000_CRISPR_KO_Consensus_Sigs = dataframe_list[6]\n",
    "MoTrPAC = dataframe_list[7]\n",
    "Metabolomics_Workbench_Metabolites  = dataframe_list[8]"
   ]
  },
  {
   "cell_type": "code",
   "execution_count": null,
   "metadata": {},
   "outputs": [],
   "source": [
    "# read in all genes and convert to dataframe\n",
    "ingested_genes = pd.read_sql(\"SELECT * from genes\", conn)"
   ]
  },
  {
   "cell_type": "code",
   "execution_count": 7,
   "metadata": {},
   "outputs": [],
   "source": [
    "# Call enrichment results and return a plot and dataframe for Scatter Plot\n",
    "def get_values(obj_list):\n",
    "    pvals = []\n",
    "    odds_ratio = []\n",
    "    n_overlap = []\n",
    "    overlap = []\n",
    "    geneset_name = []\n",
    "    for i in obj_list:\n",
    "        geneset_name.append(i[0])\n",
    "        pvals.append(i[1].pvalue)\n",
    "        odds_ratio.append(i[1].odds_ratio)\n",
    "        n_overlap.append(i[1].n_overlap)\n",
    "        overlap.append(list(i[1].overlap))\n",
    "    return geneset_name, pvals, odds_ratio, n_overlap, overlap\n"
   ]
  },
  {
   "cell_type": "code",
   "execution_count": 44,
   "metadata": {},
   "outputs": [],
   "source": [
    "from maayanlab_bioinformatics.enrichment.crisp import enrich_crisp\n",
    "\n",
    "def cross_GMTs(dataframe1, dataframe2, df_1_name, df_2_name):\n",
    "    all_pvals = []\n",
    "    all_odds_ratio = []\n",
    "    all_n_overlap = []\n",
    "    all_overlap = []\n",
    "    all_geneset1 = []\n",
    "    all_geneset2= []\n",
    "    for index, row in tqdm(dataframe1.iterrows(), total=dataframe1.shape[0]):\n",
    "        crossSets = {}\n",
    "        for index_inner, row_inner in dataframe2.iterrows():\n",
    "            set1 = row['Genes']\n",
    "            crossSets[row_inner['Geneset']] = row_inner['Genes']\n",
    "        result = sorted(filter(lambda x: x[1].pvalue < 0.05, enrich_crisp(set1, crossSets, 21000, True)), key=lambda r: r[1].pvalue)\n",
    "        geneset_name, pvals, odds_ratio, n_overlap, overlap = get_values(result)\n",
    "        all_geneset1.append([row['Geneset']] * len(pvals))\n",
    "        all_geneset2.append(geneset_name)\n",
    "        all_odds_ratio.append(odds_ratio)\n",
    "        all_pvals.append(pvals)\n",
    "        all_n_overlap.append(n_overlap)\n",
    "        all_overlap.append(overlap)\n",
    "    cross_pairs_df_data = pd.DataFrame({'Lib1': [df_1_name] * len(sum(all_geneset1, [])), 'Lib2': [df_2_name] * len(sum(all_geneset1, [])), 'Geneset_1': sum(all_geneset1, []), 'Geneset_2': sum(all_geneset2, []), 'Odds_Ratio': sum(all_odds_ratio, []), 'P-value': sum(all_pvals, []), 'n_Overlap': sum(all_n_overlap, []), 'Overlap': sum(all_overlap, [])}).sort_values('P-value', ascending=True)\n",
    "    cross_pairs_df_data.to_csv(df_1_name+ '_' + df_2_name + '_crossing_data.csv')\n",
    "    return cross_pairs_df_data"
   ]
  },
  {
   "cell_type": "code",
   "execution_count": 92,
   "metadata": {},
   "outputs": [
    {
     "name": "stderr",
     "output_type": "stream",
     "text": [
      "100%|██████████| 9/9 [08:34<00:00, 57.14s/it]\n",
      "100%|██████████| 9/9 [08:34<00:00, 57.18s/it]it]\n",
      "100%|██████████| 9/9 [13:22<00:00, 89.12s/it]it]\n",
      "100%|██████████| 9/9 [10:44<00:00, 71.59s/it]it]\n",
      "100%|██████████| 9/9 [09:34<00:00, 63.82s/it]]  \n",
      " 56%|█████▌    | 5/9 [50:49<41:18, 619.67s/it]"
     ]
    }
   ],
   "source": [
    "dataframes = [GlyGen_Glycosylated_Proteins, \n",
    " GTEx_Aging_Sigs, \n",
    " GTEx_Tissues, \n",
    " IDG_Drug_Targets, \n",
    " KOMP2_Mouse_Phenotypes, \n",
    " LINCS_L1000_Chem_Pert_Consensus_Sigs, \n",
    " LINCS_L1000_CRISPR_KO_Consensus_Sigs,\n",
    " MoTrPAC, \n",
    " Metabolomics_Workbench_Metabolites]\n",
    "\n",
    "dataframe_names = ['GlyGen_Glycosylated_Proteins', \n",
    " 'GTEx_Aging_Sigs', \n",
    " 'GTEx_Tissues', \n",
    " 'IDG_Drug_Targets', \n",
    " 'KOMP2_Mouse_Phenotypes', \n",
    " 'LINCS_L1000_Chem_Pert_Consensus_Sigs', \n",
    " 'LINCS_L1000_CRISPR_KO_Consensus_Sigs',\n",
    " 'MoTrPAC', \n",
    " 'Metabolomics_Workbench_Metabolites']\n",
    "\n",
    "pairs = []\n",
    "for index, gmt in tqdm(enumerate(dataframes), total=len(dataframes)): \n",
    "    for inner_index, inner_gmt in tqdm(enumerate(dataframes), total=len(dataframes)): \n",
    "        if not(index == inner_index):\n",
    "            if not(([index, inner_index] in pairs) or ([inner_index, index] in pairs)):\n",
    "                result = cross_GMTs(gmt, inner_gmt, dataframe_names[index], dataframe_names[inner_index])\n",
    "                pairs.append([index, inner_index])\n"
   ]
  },
  {
   "cell_type": "code",
   "execution_count": 45,
   "metadata": {},
   "outputs": [
    {
     "name": "stderr",
     "output_type": "stream",
     "text": [
      "100%|██████████| 10850/10850 [3:42:15<00:00,  1.04it/s]  "
     ]
    }
   ],
   "source": [
    "result = cross_GMTs(LINCS_L1000_Chem_Pert_Consensus_Sigs,LINCS_L1000_CRISPR_KO_Consensus_Sigs , 'LINCS_L1000_Chem_Pert_Consensus_Sigs', 'LINCS_L1000_CRISPR_KO_Consensus_Sigs')"
   ]
  },
  {
   "cell_type": "code",
   "execution_count": 79,
   "metadata": {},
   "outputs": [],
   "source": [
    "import matplotlib.pyplot as plt\n",
    "import plotly.express as px\n",
    "\n",
    "def plot_genesets():\n",
    "    geneset_lengths = []\n",
    "    sources = [\"GlyGen Glycosylated Proteins\", \n",
    " \"GTEx Aging Sigs\", \n",
    " \"GTEx Tissues\", \n",
    " \"IDG Drug Targets\", \n",
    " \"KOMP2_Mouse_Phenotypes\", \n",
    " \"LINCS L1000 Chem Pert Consensus Sigs\", \n",
    " \"LINCS L1000 CRISPR KO Consensus Sigs\",\n",
    " \"MoTrPAC\", \n",
    " \"Metabolomics Workbench Metabolites\"]\n",
    "    for df in dataframe_list:\n",
    "        n_genesets = len(df)\n",
    "        geneset_lengths.append(n_genesets)\n",
    "    count_df = pd.DataFrame({'GMT': sources, 'Gene Sets': geneset_lengths})\n",
    "    fig = px.bar(count_df, y=\"Gene Sets\", x=\"GMT\",  width=600, height=600)\n",
    "    fig.update_xaxes(tickangle=45)\n",
    "    fig.update_yaxes(tickformat=',')\n",
    "    fig.show()"
   ]
  },
  {
   "cell_type": "code",
   "execution_count": 47,
   "metadata": {},
   "outputs": [
    {
     "data": {
      "application/vnd.plotly.v1+json": {
       "config": {
        "plotlyServerURL": "https://plot.ly"
       },
       "data": [
        {
         "alignmentgroup": "True",
         "hovertemplate": "GMT=%{x}<br>Gene Sets=%{y}<extra></extra>",
         "legendgroup": "",
         "marker": {
          "color": "#636efa",
          "pattern": {
           "shape": ""
          }
         },
         "name": "",
         "offsetgroup": "",
         "orientation": "v",
         "showlegend": false,
         "textposition": "auto",
         "type": "bar",
         "x": [
          "GlyGen Glycosylated Proteins",
          "GTEx Aging Sigs",
          "GTEx Tissues",
          "IDG Drug Targets",
          "KOMP2_Mouse_Phenotypes",
          "LINCS L1000 Chem Pert Consensus Sigs",
          "LINCS L1000 CRISPR KO Consensus Sigs",
          "MoTrPAC",
          "Metabolomics Workbench Metabolites"
         ],
         "xaxis": "x",
         "y": [
          338,
          270,
          511,
          888,
          529,
          10850,
          10424,
          225,
          233
         ],
         "yaxis": "y"
        }
       ],
       "layout": {
        "barmode": "relative",
        "height": 600,
        "legend": {
         "tracegroupgap": 0
        },
        "margin": {
         "t": 60
        },
        "template": {
         "data": {
          "bar": [
           {
            "error_x": {
             "color": "#2a3f5f"
            },
            "error_y": {
             "color": "#2a3f5f"
            },
            "marker": {
             "line": {
              "color": "#E5ECF6",
              "width": 0.5
             },
             "pattern": {
              "fillmode": "overlay",
              "size": 10,
              "solidity": 0.2
             }
            },
            "type": "bar"
           }
          ],
          "barpolar": [
           {
            "marker": {
             "line": {
              "color": "#E5ECF6",
              "width": 0.5
             },
             "pattern": {
              "fillmode": "overlay",
              "size": 10,
              "solidity": 0.2
             }
            },
            "type": "barpolar"
           }
          ],
          "carpet": [
           {
            "aaxis": {
             "endlinecolor": "#2a3f5f",
             "gridcolor": "white",
             "linecolor": "white",
             "minorgridcolor": "white",
             "startlinecolor": "#2a3f5f"
            },
            "baxis": {
             "endlinecolor": "#2a3f5f",
             "gridcolor": "white",
             "linecolor": "white",
             "minorgridcolor": "white",
             "startlinecolor": "#2a3f5f"
            },
            "type": "carpet"
           }
          ],
          "choropleth": [
           {
            "colorbar": {
             "outlinewidth": 0,
             "ticks": ""
            },
            "type": "choropleth"
           }
          ],
          "contour": [
           {
            "colorbar": {
             "outlinewidth": 0,
             "ticks": ""
            },
            "colorscale": [
             [
              0,
              "#0d0887"
             ],
             [
              0.1111111111111111,
              "#46039f"
             ],
             [
              0.2222222222222222,
              "#7201a8"
             ],
             [
              0.3333333333333333,
              "#9c179e"
             ],
             [
              0.4444444444444444,
              "#bd3786"
             ],
             [
              0.5555555555555556,
              "#d8576b"
             ],
             [
              0.6666666666666666,
              "#ed7953"
             ],
             [
              0.7777777777777778,
              "#fb9f3a"
             ],
             [
              0.8888888888888888,
              "#fdca26"
             ],
             [
              1,
              "#f0f921"
             ]
            ],
            "type": "contour"
           }
          ],
          "contourcarpet": [
           {
            "colorbar": {
             "outlinewidth": 0,
             "ticks": ""
            },
            "type": "contourcarpet"
           }
          ],
          "heatmap": [
           {
            "colorbar": {
             "outlinewidth": 0,
             "ticks": ""
            },
            "colorscale": [
             [
              0,
              "#0d0887"
             ],
             [
              0.1111111111111111,
              "#46039f"
             ],
             [
              0.2222222222222222,
              "#7201a8"
             ],
             [
              0.3333333333333333,
              "#9c179e"
             ],
             [
              0.4444444444444444,
              "#bd3786"
             ],
             [
              0.5555555555555556,
              "#d8576b"
             ],
             [
              0.6666666666666666,
              "#ed7953"
             ],
             [
              0.7777777777777778,
              "#fb9f3a"
             ],
             [
              0.8888888888888888,
              "#fdca26"
             ],
             [
              1,
              "#f0f921"
             ]
            ],
            "type": "heatmap"
           }
          ],
          "heatmapgl": [
           {
            "colorbar": {
             "outlinewidth": 0,
             "ticks": ""
            },
            "colorscale": [
             [
              0,
              "#0d0887"
             ],
             [
              0.1111111111111111,
              "#46039f"
             ],
             [
              0.2222222222222222,
              "#7201a8"
             ],
             [
              0.3333333333333333,
              "#9c179e"
             ],
             [
              0.4444444444444444,
              "#bd3786"
             ],
             [
              0.5555555555555556,
              "#d8576b"
             ],
             [
              0.6666666666666666,
              "#ed7953"
             ],
             [
              0.7777777777777778,
              "#fb9f3a"
             ],
             [
              0.8888888888888888,
              "#fdca26"
             ],
             [
              1,
              "#f0f921"
             ]
            ],
            "type": "heatmapgl"
           }
          ],
          "histogram": [
           {
            "marker": {
             "pattern": {
              "fillmode": "overlay",
              "size": 10,
              "solidity": 0.2
             }
            },
            "type": "histogram"
           }
          ],
          "histogram2d": [
           {
            "colorbar": {
             "outlinewidth": 0,
             "ticks": ""
            },
            "colorscale": [
             [
              0,
              "#0d0887"
             ],
             [
              0.1111111111111111,
              "#46039f"
             ],
             [
              0.2222222222222222,
              "#7201a8"
             ],
             [
              0.3333333333333333,
              "#9c179e"
             ],
             [
              0.4444444444444444,
              "#bd3786"
             ],
             [
              0.5555555555555556,
              "#d8576b"
             ],
             [
              0.6666666666666666,
              "#ed7953"
             ],
             [
              0.7777777777777778,
              "#fb9f3a"
             ],
             [
              0.8888888888888888,
              "#fdca26"
             ],
             [
              1,
              "#f0f921"
             ]
            ],
            "type": "histogram2d"
           }
          ],
          "histogram2dcontour": [
           {
            "colorbar": {
             "outlinewidth": 0,
             "ticks": ""
            },
            "colorscale": [
             [
              0,
              "#0d0887"
             ],
             [
              0.1111111111111111,
              "#46039f"
             ],
             [
              0.2222222222222222,
              "#7201a8"
             ],
             [
              0.3333333333333333,
              "#9c179e"
             ],
             [
              0.4444444444444444,
              "#bd3786"
             ],
             [
              0.5555555555555556,
              "#d8576b"
             ],
             [
              0.6666666666666666,
              "#ed7953"
             ],
             [
              0.7777777777777778,
              "#fb9f3a"
             ],
             [
              0.8888888888888888,
              "#fdca26"
             ],
             [
              1,
              "#f0f921"
             ]
            ],
            "type": "histogram2dcontour"
           }
          ],
          "mesh3d": [
           {
            "colorbar": {
             "outlinewidth": 0,
             "ticks": ""
            },
            "type": "mesh3d"
           }
          ],
          "parcoords": [
           {
            "line": {
             "colorbar": {
              "outlinewidth": 0,
              "ticks": ""
             }
            },
            "type": "parcoords"
           }
          ],
          "pie": [
           {
            "automargin": true,
            "type": "pie"
           }
          ],
          "scatter": [
           {
            "fillpattern": {
             "fillmode": "overlay",
             "size": 10,
             "solidity": 0.2
            },
            "type": "scatter"
           }
          ],
          "scatter3d": [
           {
            "line": {
             "colorbar": {
              "outlinewidth": 0,
              "ticks": ""
             }
            },
            "marker": {
             "colorbar": {
              "outlinewidth": 0,
              "ticks": ""
             }
            },
            "type": "scatter3d"
           }
          ],
          "scattercarpet": [
           {
            "marker": {
             "colorbar": {
              "outlinewidth": 0,
              "ticks": ""
             }
            },
            "type": "scattercarpet"
           }
          ],
          "scattergeo": [
           {
            "marker": {
             "colorbar": {
              "outlinewidth": 0,
              "ticks": ""
             }
            },
            "type": "scattergeo"
           }
          ],
          "scattergl": [
           {
            "marker": {
             "colorbar": {
              "outlinewidth": 0,
              "ticks": ""
             }
            },
            "type": "scattergl"
           }
          ],
          "scattermapbox": [
           {
            "marker": {
             "colorbar": {
              "outlinewidth": 0,
              "ticks": ""
             }
            },
            "type": "scattermapbox"
           }
          ],
          "scatterpolar": [
           {
            "marker": {
             "colorbar": {
              "outlinewidth": 0,
              "ticks": ""
             }
            },
            "type": "scatterpolar"
           }
          ],
          "scatterpolargl": [
           {
            "marker": {
             "colorbar": {
              "outlinewidth": 0,
              "ticks": ""
             }
            },
            "type": "scatterpolargl"
           }
          ],
          "scatterternary": [
           {
            "marker": {
             "colorbar": {
              "outlinewidth": 0,
              "ticks": ""
             }
            },
            "type": "scatterternary"
           }
          ],
          "surface": [
           {
            "colorbar": {
             "outlinewidth": 0,
             "ticks": ""
            },
            "colorscale": [
             [
              0,
              "#0d0887"
             ],
             [
              0.1111111111111111,
              "#46039f"
             ],
             [
              0.2222222222222222,
              "#7201a8"
             ],
             [
              0.3333333333333333,
              "#9c179e"
             ],
             [
              0.4444444444444444,
              "#bd3786"
             ],
             [
              0.5555555555555556,
              "#d8576b"
             ],
             [
              0.6666666666666666,
              "#ed7953"
             ],
             [
              0.7777777777777778,
              "#fb9f3a"
             ],
             [
              0.8888888888888888,
              "#fdca26"
             ],
             [
              1,
              "#f0f921"
             ]
            ],
            "type": "surface"
           }
          ],
          "table": [
           {
            "cells": {
             "fill": {
              "color": "#EBF0F8"
             },
             "line": {
              "color": "white"
             }
            },
            "header": {
             "fill": {
              "color": "#C8D4E3"
             },
             "line": {
              "color": "white"
             }
            },
            "type": "table"
           }
          ]
         },
         "layout": {
          "annotationdefaults": {
           "arrowcolor": "#2a3f5f",
           "arrowhead": 0,
           "arrowwidth": 1
          },
          "autotypenumbers": "strict",
          "coloraxis": {
           "colorbar": {
            "outlinewidth": 0,
            "ticks": ""
           }
          },
          "colorscale": {
           "diverging": [
            [
             0,
             "#8e0152"
            ],
            [
             0.1,
             "#c51b7d"
            ],
            [
             0.2,
             "#de77ae"
            ],
            [
             0.3,
             "#f1b6da"
            ],
            [
             0.4,
             "#fde0ef"
            ],
            [
             0.5,
             "#f7f7f7"
            ],
            [
             0.6,
             "#e6f5d0"
            ],
            [
             0.7,
             "#b8e186"
            ],
            [
             0.8,
             "#7fbc41"
            ],
            [
             0.9,
             "#4d9221"
            ],
            [
             1,
             "#276419"
            ]
           ],
           "sequential": [
            [
             0,
             "#0d0887"
            ],
            [
             0.1111111111111111,
             "#46039f"
            ],
            [
             0.2222222222222222,
             "#7201a8"
            ],
            [
             0.3333333333333333,
             "#9c179e"
            ],
            [
             0.4444444444444444,
             "#bd3786"
            ],
            [
             0.5555555555555556,
             "#d8576b"
            ],
            [
             0.6666666666666666,
             "#ed7953"
            ],
            [
             0.7777777777777778,
             "#fb9f3a"
            ],
            [
             0.8888888888888888,
             "#fdca26"
            ],
            [
             1,
             "#f0f921"
            ]
           ],
           "sequentialminus": [
            [
             0,
             "#0d0887"
            ],
            [
             0.1111111111111111,
             "#46039f"
            ],
            [
             0.2222222222222222,
             "#7201a8"
            ],
            [
             0.3333333333333333,
             "#9c179e"
            ],
            [
             0.4444444444444444,
             "#bd3786"
            ],
            [
             0.5555555555555556,
             "#d8576b"
            ],
            [
             0.6666666666666666,
             "#ed7953"
            ],
            [
             0.7777777777777778,
             "#fb9f3a"
            ],
            [
             0.8888888888888888,
             "#fdca26"
            ],
            [
             1,
             "#f0f921"
            ]
           ]
          },
          "colorway": [
           "#636efa",
           "#EF553B",
           "#00cc96",
           "#ab63fa",
           "#FFA15A",
           "#19d3f3",
           "#FF6692",
           "#B6E880",
           "#FF97FF",
           "#FECB52"
          ],
          "font": {
           "color": "#2a3f5f"
          },
          "geo": {
           "bgcolor": "white",
           "lakecolor": "white",
           "landcolor": "#E5ECF6",
           "showlakes": true,
           "showland": true,
           "subunitcolor": "white"
          },
          "hoverlabel": {
           "align": "left"
          },
          "hovermode": "closest",
          "mapbox": {
           "style": "light"
          },
          "paper_bgcolor": "white",
          "plot_bgcolor": "#E5ECF6",
          "polar": {
           "angularaxis": {
            "gridcolor": "white",
            "linecolor": "white",
            "ticks": ""
           },
           "bgcolor": "#E5ECF6",
           "radialaxis": {
            "gridcolor": "white",
            "linecolor": "white",
            "ticks": ""
           }
          },
          "scene": {
           "xaxis": {
            "backgroundcolor": "#E5ECF6",
            "gridcolor": "white",
            "gridwidth": 2,
            "linecolor": "white",
            "showbackground": true,
            "ticks": "",
            "zerolinecolor": "white"
           },
           "yaxis": {
            "backgroundcolor": "#E5ECF6",
            "gridcolor": "white",
            "gridwidth": 2,
            "linecolor": "white",
            "showbackground": true,
            "ticks": "",
            "zerolinecolor": "white"
           },
           "zaxis": {
            "backgroundcolor": "#E5ECF6",
            "gridcolor": "white",
            "gridwidth": 2,
            "linecolor": "white",
            "showbackground": true,
            "ticks": "",
            "zerolinecolor": "white"
           }
          },
          "shapedefaults": {
           "line": {
            "color": "#2a3f5f"
           }
          },
          "ternary": {
           "aaxis": {
            "gridcolor": "white",
            "linecolor": "white",
            "ticks": ""
           },
           "baxis": {
            "gridcolor": "white",
            "linecolor": "white",
            "ticks": ""
           },
           "bgcolor": "#E5ECF6",
           "caxis": {
            "gridcolor": "white",
            "linecolor": "white",
            "ticks": ""
           }
          },
          "title": {
           "x": 0.05
          },
          "xaxis": {
           "automargin": true,
           "gridcolor": "white",
           "linecolor": "white",
           "ticks": "",
           "title": {
            "standoff": 15
           },
           "zerolinecolor": "white",
           "zerolinewidth": 2
          },
          "yaxis": {
           "automargin": true,
           "gridcolor": "white",
           "linecolor": "white",
           "ticks": "",
           "title": {
            "standoff": 15
           },
           "zerolinecolor": "white",
           "zerolinewidth": 2
          }
         }
        },
        "width": 600,
        "xaxis": {
         "anchor": "y",
         "autorange": true,
         "domain": [
          0,
          1
         ],
         "range": [
          -0.5,
          8.5
         ],
         "tickangle": 45,
         "title": {
          "text": "GMT"
         },
         "type": "category"
        },
        "yaxis": {
         "anchor": "x",
         "autorange": true,
         "domain": [
          0,
          1
         ],
         "range": [
          0,
          11421.052631578947
         ],
         "tickformat": ",",
         "title": {
          "text": "Gene Sets"
         },
         "type": "linear"
        }
       }
      },
      "image/png": "[encoded data removed]",
      "text/html": [
       "<div>                            <div id=\"2f7da8c1-4866-4b40-bc58-0398f2292d04\" class=\"plotly-graph-div\" style=\"height:600px; width:600px;\"></div>            <script type=\"text/javascript\">                require([\"plotly\"], function(Plotly) {                    window.PLOTLYENV=window.PLOTLYENV || {};                                    if (document.getElementById(\"2f7da8c1-4866-4b40-bc58-0398f2292d04\")) {                    Plotly.newPlot(                        \"2f7da8c1-4866-4b40-bc58-0398f2292d04\",                        [{\"alignmentgroup\":\"True\",\"hovertemplate\":\"GMT=%{x}\\u003cbr\\u003eGene Sets=%{y}\\u003cextra\\u003e\\u003c\\u002fextra\\u003e\",\"legendgroup\":\"\",\"marker\":{\"color\":\"#636efa\",\"pattern\":{\"shape\":\"\"}},\"name\":\"\",\"offsetgroup\":\"\",\"orientation\":\"v\",\"showlegend\":false,\"textposition\":\"auto\",\"x\":[\"GlyGen Glycosylated Proteins\",\"GTEx Aging Sigs\",\"GTEx Tissues\",\"IDG Drug Targets\",\"KOMP2_Mouse_Phenotypes\",\"LINCS L1000 Chem Pert Consensus Sigs\",\"LINCS L1000 CRISPR KO Consensus Sigs\",\"MoTrPAC\",\"Metabolomics Workbench Metabolites\"],\"xaxis\":\"x\",\"y\":[338,270,511,888,529,10850,10424,225,233],\"yaxis\":\"y\",\"type\":\"bar\"}],                        {\"template\":{\"data\":{\"histogram2dcontour\":[{\"type\":\"histogram2dcontour\",\"colorbar\":{\"outlinewidth\":0,\"ticks\":\"\"},\"colorscale\":[[0.0,\"#0d0887\"],[0.1111111111111111,\"#46039f\"],[0.2222222222222222,\"#7201a8\"],[0.3333333333333333,\"#9c179e\"],[0.4444444444444444,\"#bd3786\"],[0.5555555555555556,\"#d8576b\"],[0.6666666666666666,\"#ed7953\"],[0.7777777777777778,\"#fb9f3a\"],[0.8888888888888888,\"#fdca26\"],[1.0,\"#f0f921\"]]}],\"choropleth\":[{\"type\":\"choropleth\",\"colorbar\":{\"outlinewidth\":0,\"ticks\":\"\"}}],\"histogram2d\":[{\"type\":\"histogram2d\",\"colorbar\":{\"outlinewidth\":0,\"ticks\":\"\"},\"colorscale\":[[0.0,\"#0d0887\"],[0.1111111111111111,\"#46039f\"],[0.2222222222222222,\"#7201a8\"],[0.3333333333333333,\"#9c179e\"],[0.4444444444444444,\"#bd3786\"],[0.5555555555555556,\"#d8576b\"],[0.6666666666666666,\"#ed7953\"],[0.7777777777777778,\"#fb9f3a\"],[0.8888888888888888,\"#fdca26\"],[1.0,\"#f0f921\"]]}],\"heatmap\":[{\"type\":\"heatmap\",\"colorbar\":{\"outlinewidth\":0,\"ticks\":\"\"},\"colorscale\":[[0.0,\"#0d0887\"],[0.1111111111111111,\"#46039f\"],[0.2222222222222222,\"#7201a8\"],[0.3333333333333333,\"#9c179e\"],[0.4444444444444444,\"#bd3786\"],[0.5555555555555556,\"#d8576b\"],[0.6666666666666666,\"#ed7953\"],[0.7777777777777778,\"#fb9f3a\"],[0.8888888888888888,\"#fdca26\"],[1.0,\"#f0f921\"]]}],\"heatmapgl\":[{\"type\":\"heatmapgl\",\"colorbar\":{\"outlinewidth\":0,\"ticks\":\"\"},\"colorscale\":[[0.0,\"#0d0887\"],[0.1111111111111111,\"#46039f\"],[0.2222222222222222,\"#7201a8\"],[0.3333333333333333,\"#9c179e\"],[0.4444444444444444,\"#bd3786\"],[0.5555555555555556,\"#d8576b\"],[0.6666666666666666,\"#ed7953\"],[0.7777777777777778,\"#fb9f3a\"],[0.8888888888888888,\"#fdca26\"],[1.0,\"#f0f921\"]]}],\"contourcarpet\":[{\"type\":\"contourcarpet\",\"colorbar\":{\"outlinewidth\":0,\"ticks\":\"\"}}],\"contour\":[{\"type\":\"contour\",\"colorbar\":{\"outlinewidth\":0,\"ticks\":\"\"},\"colorscale\":[[0.0,\"#0d0887\"],[0.1111111111111111,\"#46039f\"],[0.2222222222222222,\"#7201a8\"],[0.3333333333333333,\"#9c179e\"],[0.4444444444444444,\"#bd3786\"],[0.5555555555555556,\"#d8576b\"],[0.6666666666666666,\"#ed7953\"],[0.7777777777777778,\"#fb9f3a\"],[0.8888888888888888,\"#fdca26\"],[1.0,\"#f0f921\"]]}],\"surface\":[{\"type\":\"surface\",\"colorbar\":{\"outlinewidth\":0,\"ticks\":\"\"},\"colorscale\":[[0.0,\"#0d0887\"],[0.1111111111111111,\"#46039f\"],[0.2222222222222222,\"#7201a8\"],[0.3333333333333333,\"#9c179e\"],[0.4444444444444444,\"#bd3786\"],[0.5555555555555556,\"#d8576b\"],[0.6666666666666666,\"#ed7953\"],[0.7777777777777778,\"#fb9f3a\"],[0.8888888888888888,\"#fdca26\"],[1.0,\"#f0f921\"]]}],\"mesh3d\":[{\"type\":\"mesh3d\",\"colorbar\":{\"outlinewidth\":0,\"ticks\":\"\"}}],\"scatter\":[{\"fillpattern\":{\"fillmode\":\"overlay\",\"size\":10,\"solidity\":0.2},\"type\":\"scatter\"}],\"parcoords\":[{\"type\":\"parcoords\",\"line\":{\"colorbar\":{\"outlinewidth\":0,\"ticks\":\"\"}}}],\"scatterpolargl\":[{\"type\":\"scatterpolargl\",\"marker\":{\"colorbar\":{\"outlinewidth\":0,\"ticks\":\"\"}}}],\"bar\":[{\"error_x\":{\"color\":\"#2a3f5f\"},\"error_y\":{\"color\":\"#2a3f5f\"},\"marker\":{\"line\":{\"color\":\"#E5ECF6\",\"width\":0.5},\"pattern\":{\"fillmode\":\"overlay\",\"size\":10,\"solidity\":0.2}},\"type\":\"bar\"}],\"scattergeo\":[{\"type\":\"scattergeo\",\"marker\":{\"colorbar\":{\"outlinewidth\":0,\"ticks\":\"\"}}}],\"scatterpolar\":[{\"type\":\"scatterpolar\",\"marker\":{\"colorbar\":{\"outlinewidth\":0,\"ticks\":\"\"}}}],\"histogram\":[{\"marker\":{\"pattern\":{\"fillmode\":\"overlay\",\"size\":10,\"solidity\":0.2}},\"type\":\"histogram\"}],\"scattergl\":[{\"type\":\"scattergl\",\"marker\":{\"colorbar\":{\"outlinewidth\":0,\"ticks\":\"\"}}}],\"scatter3d\":[{\"type\":\"scatter3d\",\"line\":{\"colorbar\":{\"outlinewidth\":0,\"ticks\":\"\"}},\"marker\":{\"colorbar\":{\"outlinewidth\":0,\"ticks\":\"\"}}}],\"scattermapbox\":[{\"type\":\"scattermapbox\",\"marker\":{\"colorbar\":{\"outlinewidth\":0,\"ticks\":\"\"}}}],\"scatterternary\":[{\"type\":\"scatterternary\",\"marker\":{\"colorbar\":{\"outlinewidth\":0,\"ticks\":\"\"}}}],\"scattercarpet\":[{\"type\":\"scattercarpet\",\"marker\":{\"colorbar\":{\"outlinewidth\":0,\"ticks\":\"\"}}}],\"carpet\":[{\"aaxis\":{\"endlinecolor\":\"#2a3f5f\",\"gridcolor\":\"white\",\"linecolor\":\"white\",\"minorgridcolor\":\"white\",\"startlinecolor\":\"#2a3f5f\"},\"baxis\":{\"endlinecolor\":\"#2a3f5f\",\"gridcolor\":\"white\",\"linecolor\":\"white\",\"minorgridcolor\":\"white\",\"startlinecolor\":\"#2a3f5f\"},\"type\":\"carpet\"}],\"table\":[{\"cells\":{\"fill\":{\"color\":\"#EBF0F8\"},\"line\":{\"color\":\"white\"}},\"header\":{\"fill\":{\"color\":\"#C8D4E3\"},\"line\":{\"color\":\"white\"}},\"type\":\"table\"}],\"barpolar\":[{\"marker\":{\"line\":{\"color\":\"#E5ECF6\",\"width\":0.5},\"pattern\":{\"fillmode\":\"overlay\",\"size\":10,\"solidity\":0.2}},\"type\":\"barpolar\"}],\"pie\":[{\"automargin\":true,\"type\":\"pie\"}]},\"layout\":{\"autotypenumbers\":\"strict\",\"colorway\":[\"#636efa\",\"#EF553B\",\"#00cc96\",\"#ab63fa\",\"#FFA15A\",\"#19d3f3\",\"#FF6692\",\"#B6E880\",\"#FF97FF\",\"#FECB52\"],\"font\":{\"color\":\"#2a3f5f\"},\"hovermode\":\"closest\",\"hoverlabel\":{\"align\":\"left\"},\"paper_bgcolor\":\"white\",\"plot_bgcolor\":\"#E5ECF6\",\"polar\":{\"bgcolor\":\"#E5ECF6\",\"angularaxis\":{\"gridcolor\":\"white\",\"linecolor\":\"white\",\"ticks\":\"\"},\"radialaxis\":{\"gridcolor\":\"white\",\"linecolor\":\"white\",\"ticks\":\"\"}},\"ternary\":{\"bgcolor\":\"#E5ECF6\",\"aaxis\":{\"gridcolor\":\"white\",\"linecolor\":\"white\",\"ticks\":\"\"},\"baxis\":{\"gridcolor\":\"white\",\"linecolor\":\"white\",\"ticks\":\"\"},\"caxis\":{\"gridcolor\":\"white\",\"linecolor\":\"white\",\"ticks\":\"\"}},\"coloraxis\":{\"colorbar\":{\"outlinewidth\":0,\"ticks\":\"\"}},\"colorscale\":{\"sequential\":[[0.0,\"#0d0887\"],[0.1111111111111111,\"#46039f\"],[0.2222222222222222,\"#7201a8\"],[0.3333333333333333,\"#9c179e\"],[0.4444444444444444,\"#bd3786\"],[0.5555555555555556,\"#d8576b\"],[0.6666666666666666,\"#ed7953\"],[0.7777777777777778,\"#fb9f3a\"],[0.8888888888888888,\"#fdca26\"],[1.0,\"#f0f921\"]],\"sequentialminus\":[[0.0,\"#0d0887\"],[0.1111111111111111,\"#46039f\"],[0.2222222222222222,\"#7201a8\"],[0.3333333333333333,\"#9c179e\"],[0.4444444444444444,\"#bd3786\"],[0.5555555555555556,\"#d8576b\"],[0.6666666666666666,\"#ed7953\"],[0.7777777777777778,\"#fb9f3a\"],[0.8888888888888888,\"#fdca26\"],[1.0,\"#f0f921\"]],\"diverging\":[[0,\"#8e0152\"],[0.1,\"#c51b7d\"],[0.2,\"#de77ae\"],[0.3,\"#f1b6da\"],[0.4,\"#fde0ef\"],[0.5,\"#f7f7f7\"],[0.6,\"#e6f5d0\"],[0.7,\"#b8e186\"],[0.8,\"#7fbc41\"],[0.9,\"#4d9221\"],[1,\"#276419\"]]},\"xaxis\":{\"gridcolor\":\"white\",\"linecolor\":\"white\",\"ticks\":\"\",\"title\":{\"standoff\":15},\"zerolinecolor\":\"white\",\"automargin\":true,\"zerolinewidth\":2},\"yaxis\":{\"gridcolor\":\"white\",\"linecolor\":\"white\",\"ticks\":\"\",\"title\":{\"standoff\":15},\"zerolinecolor\":\"white\",\"automargin\":true,\"zerolinewidth\":2},\"scene\":{\"xaxis\":{\"backgroundcolor\":\"#E5ECF6\",\"gridcolor\":\"white\",\"linecolor\":\"white\",\"showbackground\":true,\"ticks\":\"\",\"zerolinecolor\":\"white\",\"gridwidth\":2},\"yaxis\":{\"backgroundcolor\":\"#E5ECF6\",\"gridcolor\":\"white\",\"linecolor\":\"white\",\"showbackground\":true,\"ticks\":\"\",\"zerolinecolor\":\"white\",\"gridwidth\":2},\"zaxis\":{\"backgroundcolor\":\"#E5ECF6\",\"gridcolor\":\"white\",\"linecolor\":\"white\",\"showbackground\":true,\"ticks\":\"\",\"zerolinecolor\":\"white\",\"gridwidth\":2}},\"shapedefaults\":{\"line\":{\"color\":\"#2a3f5f\"}},\"annotationdefaults\":{\"arrowcolor\":\"#2a3f5f\",\"arrowhead\":0,\"arrowwidth\":1},\"geo\":{\"bgcolor\":\"white\",\"landcolor\":\"#E5ECF6\",\"subunitcolor\":\"white\",\"showland\":true,\"showlakes\":true,\"lakecolor\":\"white\"},\"title\":{\"x\":0.05},\"mapbox\":{\"style\":\"light\"}}},\"xaxis\":{\"anchor\":\"y\",\"domain\":[0.0,1.0],\"title\":{\"text\":\"GMT\"},\"tickangle\":45},\"yaxis\":{\"anchor\":\"x\",\"domain\":[0.0,1.0],\"title\":{\"text\":\"Gene Sets\"},\"tickformat\":\",\"},\"legend\":{\"tracegroupgap\":0},\"margin\":{\"t\":60},\"barmode\":\"relative\",\"height\":600,\"width\":600},                        {\"responsive\": true}                    ).then(function(){\n",
       "                            \n",
       "var gd = document.getElementById('2f7da8c1-4866-4b40-bc58-0398f2292d04');\n",
       "var x = new MutationObserver(function (mutations, observer) {{\n",
       "        var display = window.getComputedStyle(gd).display;\n",
       "        if (!display || display === 'none') {{\n",
       "            console.log([gd, 'removed!']);\n",
       "            Plotly.purge(gd);\n",
       "            observer.disconnect();\n",
       "        }}\n",
       "}});\n",
       "\n",
       "// Listen for the removal of the full notebook cells\n",
       "var notebookContainer = gd.closest('#notebook-container');\n",
       "if (notebookContainer) {{\n",
       "    x.observe(notebookContainer, {childList: true});\n",
       "}}\n",
       "\n",
       "// Listen for the clearing of the current output cell\n",
       "var outputEl = gd.closest('.output');\n",
       "if (outputEl) {{\n",
       "    x.observe(outputEl, {childList: true});\n",
       "}}\n",
       "\n",
       "                        })                };                });            </script>        </div>"
      ]
     },
     "metadata": {},
     "output_type": "display_data"
    }
   ],
   "source": [
    "plot_genesets()"
   ]
  },
  {
   "cell_type": "code",
   "execution_count": 10,
   "metadata": {},
   "outputs": [
    {
     "name": "stderr",
     "output_type": "stream",
     "text": [
      "  0%|          | 0/1453 [00:00<?, ?it/s]"
     ]
    },
    {
     "name": "stderr",
     "output_type": "stream",
     "text": [
      "100%|██████████| 1453/1453 [00:00<00:00, 4919.39it/s]\n",
      "100%|██████████| 4263/4263 [00:00<00:00, 6335.81it/s]\n",
      "100%|██████████| 372/372 [00:00<00:00, 6373.70it/s]\n",
      "100%|██████████| 106/106 [00:00<00:00, 6139.22it/s]\n",
      "100%|██████████| 1208/1208 [00:00<00:00, 6117.05it/s]\n",
      "100%|██████████| 93/93 [00:00<00:00, 6108.78it/s]\n",
      "100%|██████████| 5598/5598 [00:00<00:00, 6980.53it/s]\n",
      "100%|██████████| 1137/1137 [00:00<00:00, 7326.03it/s]\n",
      "100%|██████████| 18/18 [00:00<00:00, 5950.77it/s]\n",
      "100%|██████████| 346/346 [00:00<00:00, 6293.19it/s]\n",
      "100%|██████████| 317/317 [00:00<00:00, 6941.86it/s]\n",
      "100%|██████████| 5687/5687 [00:00<00:00, 7503.55it/s]\n",
      "100%|██████████| 260/260 [00:00<00:00, 6672.29it/s]\n",
      "100%|██████████| 1105/1105 [00:00<00:00, 5779.67it/s]\n",
      "100%|██████████| 594/594 [00:00<00:00, 7008.01it/s]\n",
      "100%|██████████| 121/121 [00:00<00:00, 6656.40it/s]\n",
      "100%|██████████| 95/95 [00:00<00:00, 6155.23it/s]\n",
      "100%|██████████| 701/701 [00:00<00:00, 7165.71it/s]\n",
      "100%|██████████| 87/87 [00:00<00:00, 4710.63it/s]\n",
      "100%|██████████| 67/67 [00:00<00:00, 6155.80it/s]\n",
      "100%|██████████| 192/192 [00:00<00:00, 6272.93it/s]\n"
     ]
    }
   ],
   "source": [
    "import math\n",
    "dataframe_names = ['GlyGen_Glycosylated_Proteins', \n",
    " 'GTEx_Aging_Sigs', \n",
    " 'GTEx_Tissues', \n",
    " 'IDG_Drug_Targets', \n",
    " 'KOMP2_Mouse_Phenotypes', \n",
    " 'LINCS_L1000_Chem_Pert_Consensus_Sigs', \n",
    " 'LINCS_L1000_CRISPR_KO_Consensus_Sigs',\n",
    " 'MoTrPAC', \n",
    " 'Metabolomics_Workbench_Metabolites']\n",
    "import uuid\n",
    "\n",
    "for lib in dataframe_names: \n",
    "    for inner_lib in dataframe_names:\n",
    "        if not(lib == inner_lib):\n",
    "            if not((lib == 'LINCS_L1000_Chem_Pert_Consensus_Sigs') or (lib == 'LINCS_L1000_CRISPR_KO_Consensus_Sigs')):\n",
    "                if not((inner_lib == 'LINCS_L1000_Chem_Pert_Consensus_Sigs') or (inner_lib == 'LINCS_L1000_CRISPR_KO_Consensus_Sigs')):\n",
    "                    try: \n",
    "                        crossed_dataframe = pd.read_csv('./crossed_sets/' + lib+ '_' + inner_lib + '_crossing_data.csv', index_col=0)\n",
    "                        filtered_dataframe = crossed_dataframe[crossed_dataframe['P-value'] < 0.001]\n",
    "                        for index, row in tqdm(filtered_dataframe.iterrows(), total=filtered_dataframe.shape[0]):\n",
    "                            if row['Odds_Ratio'] == math.inf:\n",
    "                                row['Odds_Ratio'] = 999999999999999.99\n",
    "                            cur.execute('''INSERT INTO cfde_cross_pair (id, lib_1, lib_2, geneset_1, geneset_2, odds_ratio, pvalue, n_overlap, overlap) \n",
    "                                            VALUES  (%s, %s, %s, %s, %s, %s, %s, %s, %s);''', (str(uuid.uuid4()), row['Lib1'], row['Lib2'], row['Geneset_1'], row['Geneset_2'], row['Odds_Ratio'], row['P-value'], row['n_Overlap'], row['Overlap'].strip('][').split(', ')))\n",
    "                            conn.commit()\n",
    "                    except:\n",
    "                        continue\n",
    "\n",
    "# conn.commit()\n",
    "conn.close()\n",
    "cur.close()\n",
    "## CLOSE CURSOR"
   ]
  },
  {
   "cell_type": "code",
   "execution_count": null,
   "metadata": {},
   "outputs": [],
   "source": []
  }
 ],
 "metadata": {
  "kernelspec": {
   "display_name": "Python 3 (ipykernel)",
   "language": "python",
   "name": "python3"
  },
  "language_info": {
   "codemirror_mode": {
    "name": "ipython",
    "version": 3
   },
   "file_extension": ".py",
   "mimetype": "text/x-python",
   "name": "python",
   "nbconvert_exporter": "python",
   "pygments_lexer": "ipython3",
   "version": "3.10.13"
  }
 },
 "nbformat": 4,
 "nbformat_minor": 4
}
