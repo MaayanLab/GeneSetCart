{
 "cells": [
  {
   "cell_type": "code",
   "execution_count": 1,
   "metadata": {},
   "outputs": [
    {
     "name": "stderr",
     "output_type": "stream",
     "text": [
      "/var/folders/fp/jvqr90jn2gsf_6qw7t0xk7br0000gn/T/ipykernel_26733/4080736814.py:1: DeprecationWarning: \n",
      "Pyarrow will become a required dependency of pandas in the next major release of pandas (pandas 3.0),\n",
      "(to allow more performant data types, such as the Arrow string type, and better interoperability with other libraries)\n",
      "but was not found to be installed on your system.\n",
      "If this would cause problems for you,\n",
      "please provide us feedback at https://github.com/pandas-dev/pandas/issues/54466\n",
      "        \n",
      "  import pandas as pd\n"
     ]
    }
   ],
   "source": [
    "import pandas as pd"
   ]
  },
  {
   "cell_type": "code",
   "execution_count": 10,
   "metadata": {},
   "outputs": [],
   "source": [
    "#Get top 5000 of LINCS crossing data \n",
    "dataframe_names = ['GlyGen_Glycosylated_Proteins', \n",
    " 'GTEx_Aging_Sigs', \n",
    " 'GTEx_Tissues', \n",
    " 'IDG_Drug_Targets', \n",
    " 'KOMP2_Mouse_Phenotypes', \n",
    " 'LINCS_L1000_Chem_Pert_Consensus_Sigs', \n",
    " 'LINCS_L1000_CRISPR_KO_Consensus_Sigs',\n",
    " 'MoTrPAC', \n",
    " 'Metabolomics_Workbench_Metabolites',\n",
    " 'HubMAP_Azimuth_2023_Augmented']\n",
    "\n",
    "for lib in dataframe_names: \n",
    "    for inner_lib in dataframe_names:\n",
    "        if not(lib == inner_lib):\n",
    "            if not((lib == 'LINCS_L1000_Chem_Pert_Consensus_Sigs' and inner_lib == 'LINCS_L1000_CRISPR_KO_Consensus_Sigs') or (lib == 'LINCS_L1000_CRISPR_KO_Consensus_Sigs' and inner_lib == 'LINCS_L1000_Chem_Pert_Consensus_Sigs')):\n",
    "                if (lib == 'LINCS_L1000_Chem_Pert_Consensus_Sigs') or (lib == 'LINCS_L1000_CRISPR_KO_Consensus_Sigs') or (inner_lib == 'LINCS_L1000_Chem_Pert_Consensus_Sigs') or (inner_lib == 'LINCS_L1000_CRISPR_KO_Consensus_Sigs'):\n",
    "                    try:\n",
    "                        crossed_dataframe = pd.read_csv('./crossed_sets/' + lib+ '_' + inner_lib + '_crossing_data.csv', index_col=0)\n",
    "                        filtered_dataframe = crossed_dataframe[crossed_dataframe['P-value'] < 0.001].sort_values('P-value', ascending=True).iloc[:5000]\n",
    "                        filtered_dataframe.to_csv('./crossed_sets/LINCS Top Pairs/' + lib+ '_' + inner_lib + '.csv')\n",
    "                    except:\n",
    "                        continue"
   ]
  },
  {
   "cell_type": "code",
   "execution_count": null,
   "metadata": {},
   "outputs": [],
   "source": []
  }
 ],
 "metadata": {
  "kernelspec": {
   "display_name": ".venv",
   "language": "python",
   "name": "python3"
  },
  "language_info": {
   "codemirror_mode": {
    "name": "ipython",
    "version": 3
   },
   "file_extension": ".py",
   "mimetype": "text/x-python",
   "name": "python",
   "nbconvert_exporter": "python",
   "pygments_lexer": "ipython3",
   "version": "3.10.13"
  },
  "orig_nbformat": 4
 },
 "nbformat": 4,
 "nbformat_minor": 2
}
