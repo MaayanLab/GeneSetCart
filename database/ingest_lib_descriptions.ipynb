{
 "cells": [
  {
   "cell_type": "code",
   "execution_count": 7,
   "metadata": {},
   "outputs": [],
   "source": [
    "import pandas as pd\n",
    "import psycopg2\n",
    "import os\n",
    "from dotenv import load_dotenv\n",
    "import uuid"
   ]
  },
  {
   "cell_type": "code",
   "execution_count": 3,
   "metadata": {},
   "outputs": [
    {
     "data": {
      "text/html": [
       "<div>\n",
       "<style scoped>\n",
       "    .dataframe tbody tr th:only-of-type {\n",
       "        vertical-align: middle;\n",
       "    }\n",
       "\n",
       "    .dataframe tbody tr th {\n",
       "        vertical-align: top;\n",
       "    }\n",
       "\n",
       "    .dataframe thead th {\n",
       "        text-align: right;\n",
       "    }\n",
       "</style>\n",
       "<table border=\"1\" class=\"dataframe\">\n",
       "  <thead>\n",
       "    <tr style=\"text-align: right;\">\n",
       "      <th></th>\n",
       "      <th>Library</th>\n",
       "      <th>Descriptions</th>\n",
       "    </tr>\n",
       "  </thead>\n",
       "  <tbody>\n",
       "    <tr>\n",
       "      <th>0</th>\n",
       "      <td>GlyGen_Glycosylated_Proteins</td>\n",
       "      <td>Glycans are carbohydrate-based polymers made b...</td>\n",
       "    </tr>\n",
       "    <tr>\n",
       "      <th>1</th>\n",
       "      <td>GTEx_Aging_Sigs</td>\n",
       "      <td>There are changes in gene expression which acc...</td>\n",
       "    </tr>\n",
       "    <tr>\n",
       "      <th>2</th>\n",
       "      <td>GTEx_Tissues</td>\n",
       "      <td>The Genotype-Tissue Expression (GTEx) project ...</td>\n",
       "    </tr>\n",
       "    <tr>\n",
       "      <th>3</th>\n",
       "      <td>IDG_Drug_Targets</td>\n",
       "      <td>There are only approximately 4,000 genes that ...</td>\n",
       "    </tr>\n",
       "    <tr>\n",
       "      <th>4</th>\n",
       "      <td>KOMP2_Mouse_Phenotypes</td>\n",
       "      <td>Gene knockouts provide clues about what a gene...</td>\n",
       "    </tr>\n",
       "    <tr>\n",
       "      <th>5</th>\n",
       "      <td>LINCS_L1000_CRISPR_KO_Consensus_Sigs</td>\n",
       "      <td>The LINCS L1000 project has collected gene exp...</td>\n",
       "    </tr>\n",
       "    <tr>\n",
       "      <th>6</th>\n",
       "      <td>LINCS_L1000_Chem_Pert_Consensus_Sigs</td>\n",
       "      <td>The LINCS L1000 project has collected gene exp...</td>\n",
       "    </tr>\n",
       "    <tr>\n",
       "      <th>7</th>\n",
       "      <td>MoTrPAC</td>\n",
       "      <td>Exercise provides a robust physiological stimu...</td>\n",
       "    </tr>\n",
       "    <tr>\n",
       "      <th>8</th>\n",
       "      <td>Metabolomics_Workbench_Metabolites</td>\n",
       "      <td>A metabolite is a substance made or used when ...</td>\n",
       "    </tr>\n",
       "  </tbody>\n",
       "</table>\n",
       "</div>"
      ],
      "text/plain": [
       "                                Library  \\\n",
       "0          GlyGen_Glycosylated_Proteins   \n",
       "1                       GTEx_Aging_Sigs   \n",
       "2                          GTEx_Tissues   \n",
       "3                      IDG_Drug_Targets   \n",
       "4                KOMP2_Mouse_Phenotypes   \n",
       "5  LINCS_L1000_CRISPR_KO_Consensus_Sigs   \n",
       "6  LINCS_L1000_Chem_Pert_Consensus_Sigs   \n",
       "7                               MoTrPAC   \n",
       "8    Metabolomics_Workbench_Metabolites   \n",
       "\n",
       "                                        Descriptions  \n",
       "0  Glycans are carbohydrate-based polymers made b...  \n",
       "1  There are changes in gene expression which acc...  \n",
       "2  The Genotype-Tissue Expression (GTEx) project ...  \n",
       "3  There are only approximately 4,000 genes that ...  \n",
       "4  Gene knockouts provide clues about what a gene...  \n",
       "5  The LINCS L1000 project has collected gene exp...  \n",
       "6  The LINCS L1000 project has collected gene exp...  \n",
       "7  Exercise provides a robust physiological stimu...  \n",
       "8  A metabolite is a substance made or used when ...  "
      ]
     },
     "execution_count": 3,
     "metadata": {},
     "output_type": "execute_result"
    }
   ],
   "source": [
    "library_abstracts = pd.read_csv('library_abstracts.csv')\n",
    "library_abstracts"
   ]
  },
  {
   "cell_type": "code",
   "execution_count": 6,
   "metadata": {},
   "outputs": [],
   "source": [
    "load_dotenv()\n",
    "DATABASE_URL = os.environ.get('DATABASE_URL')\n",
    "assert DATABASE_URL is not None, 'Missing DATABASE_URL environment variable to connect to the database'\n",
    "# connect to db\n",
    "conn = psycopg2.connect(DATABASE_URL)\n",
    "\n",
    "# Open a cursor to perform database operations\n",
    "cur = conn.cursor()"
   ]
  },
  {
   "cell_type": "code",
   "execution_count": null,
   "metadata": {},
   "outputs": [],
   "source": [
    "for index, row in library_abstracts.iterrows():\n",
    "    cur.execute('''INSERT INTO lib_abstracts (id, lib, abstract) \n",
    "                    VALUES  (%s, %s, %s);''', (str(uuid.uuid4()), row['Library'], row['Descriptions']))\n",
    "    conn.commit()\n",
    "conn.close()\n",
    "cur.close()"
   ]
  },
  {
   "cell_type": "code",
   "execution_count": null,
   "metadata": {},
   "outputs": [],
   "source": []
  },
  {
   "cell_type": "code",
   "execution_count": null,
   "metadata": {},
   "outputs": [],
   "source": []
  }
 ],
 "metadata": {
  "kernelspec": {
   "display_name": ".venv",
   "language": "python",
   "name": "python3"
  },
  "language_info": {
   "codemirror_mode": {
    "name": "ipython",
    "version": 3
   },
   "file_extension": ".py",
   "mimetype": "text/x-python",
   "name": "python",
   "nbconvert_exporter": "python",
   "pygments_lexer": "ipython3",
   "version": "3.10.13"
  },
  "orig_nbformat": 4
 },
 "nbformat": 4,
 "nbformat_minor": 2
}
