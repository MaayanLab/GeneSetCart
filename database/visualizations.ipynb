{
 "cells": [
  {
   "cell_type": "markdown",
   "metadata": {},
   "source": [
    "### UMAP for gene sets"
   ]
  },
  {
   "cell_type": "code",
   "execution_count": null,
   "metadata": {},
   "outputs": [],
   "source": [
    "import numpy as np\n",
    "import pandas as pd\n",
    "from sklearn.feature_extraction.text import TfidfVectorizer\n",
    "from sklearn.decomposition import TruncatedSVD\n",
    "from umap import UMAP\n",
    "from common import data_dir, GMT\n",
    "\n",
    "\n",
    "\n",
    "#%%\n",
    "print('Loading Rummagene GMT...')\n",
    "gmt = GMT.from_file(data_dir/'table-mining-clean.gmt')\n",
    "\n",
    "#%%\n",
    "print('Computing IDF...')\n",
    "vectorizer = TfidfVectorizer(analyzer=lambda gs: gs)\n",
    "vectors = vectorizer.fit_transform(gmt.gene_lists)\n",
    "\n",
    "#%%\n",
    "print('Computing SVD...')\n",
    "svd = TruncatedSVD(n_components=50, random_state=random_state)\n",
    "svs = svd.fit_transform(vectors)\n",
    "\n",
    "# %%\n",
    "print('Computing UMAP...')\n",
    "umap = UMAP(random_state=random_state)\n",
    "embedding = umap.fit_transform(svs)\n",
    "\n",
    "#%%\n",
    "print('Computing outliers...')\n",
    "x = embedding[:, 0]\n",
    "y = embedding[:, 1]\n",
    "x_min, x_mu, x_std, x_max = np.min(x), np.mean(x), np.std(x), np.max(x)\n",
    "x_lo, x_hi = max(x_min, x_mu - x_std*1.68), min(x_max, x_mu + x_std*1.68)\n",
    "y_min, y_mu, y_std, y_max = np.min(y), np.mean(y), np.std(y), np.max(y)\n",
    "y_lo, y_hi = max(y_min, y_mu - y_std*1.68), min(y_max, y_mu + y_std*1.68)\n",
    "outlier = (x>=x_lo)&(x<=x_hi)&(y>=y_lo)&(y<=y_hi)\n",
    "\n",
    "#%%\n",
    "print('Saving umap...')\n",
    "df_umap = pd.DataFrame(embedding, columns=['UMAP-1', 'UMAP-2'], index=gmt.terms)\n",
    "df_umap['outlier'] = (~outlier).astype(int)\n",
    "df_umap\n",
    "\n",
    "#%%\n",
    "df_umap.to_csv(data_dir / 'umap.tsv', sep='\\t')"
   ]
  },
  {
   "cell_type": "code",
   "execution_count": null,
   "metadata": {},
   "outputs": [],
   "source": []
  },
  {
   "cell_type": "code",
   "execution_count": null,
   "metadata": {},
   "outputs": [],
   "source": [
    "#%%\n",
    "random_state = 42"
   ]
  }
 ],
 "metadata": {
  "language_info": {
   "name": "python"
  },
  "orig_nbformat": 4
 },
 "nbformat": 4,
 "nbformat_minor": 2
}
